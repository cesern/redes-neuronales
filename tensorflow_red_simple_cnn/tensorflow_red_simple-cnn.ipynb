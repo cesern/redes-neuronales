{
  "nbformat": 4,
  "nbformat_minor": 0,
  "metadata": {
    "colab": {
      "name": "tensorflow_red_simple-cnn.ipynb",
      "version": "0.3.2",
      "provenance": [],
      "include_colab_link": true
    },
    "kernelspec": {
      "name": "python3",
      "display_name": "Python 3"
    },
    "accelerator": "GPU"
  },
  "cells": [
    {
      "cell_type": "markdown",
      "metadata": {
        "id": "view-in-github",
        "colab_type": "text"
      },
      "source": [
        "<a href=\"https://colab.research.google.com/github/cesern/redes-neuronales/blob/master/tensorflow_red_simple_cnn/tensorflow_red_simple-cnn.ipynb\" target=\"_parent\"><img src=\"https://colab.research.google.com/assets/colab-badge.svg\" alt=\"Open In Colab\"/></a>"
      ]
    },
    {
      "metadata": {
        "id": "lYRe55D3usTJ",
        "colab_type": "text"
      },
      "cell_type": "markdown",
      "source": [
        "<img src=\"https://github.com/cesern/redes-neuronales/blob/master/tensorflow_red_simple_cnn/imagenes/rn3.png?raw=1\" width=\"200\">\n",
        "<img src=\"http://www.identidadbuho.uson.mx/assets/letragrama-rgb-150.jpg\" width=\"200\">"
      ]
    },
    {
      "metadata": {
        "collapsed": true,
        "id": "Zh1zy2BqusTj",
        "colab_type": "text"
      },
      "cell_type": "markdown",
      "source": [
        "# [Curso de Redes Neuronales](https://curso-redes-neuronales-unison.github.io/Temario/)\n",
        "\n",
        "# Una red neuronal multicapa simple usando TensorFlow\n",
        "\n",
        "\n",
        "[**Julio Waissman Vilanova**](http://mat.uson.mx/~juliowaissman/), 2 de octubre de 2018.\n",
        "\n",
        "\n",
        "\n",
        "En esta libreta se muestra el ejemplo básico para una red convolucional\n",
        "aplicada al conjunto de datos [MNIST](http://yann.lecun.com/exdb/mnist/).\n",
        "\n",
        "Esta libreta es una modificación para redes convolucionales del ejemplo de la red multicapa simple presentada anteriormente. De hecho está copiada la libreta y solo se hacen pequeños cambios."
      ]
    },
    {
      "metadata": {
        "id": "zyKGLIeTusTt",
        "colab_type": "code",
        "colab": {}
      },
      "cell_type": "code",
      "source": [
        "import numpy as np\n",
        "import tensorflow as tf"
      ],
      "execution_count": 0,
      "outputs": []
    },
    {
      "metadata": {
        "id": "yrpSg8D8usUG",
        "colab_type": "text"
      },
      "cell_type": "markdown",
      "source": [
        "## 1. Cargar datos\n",
        "\n",
        "Primero cargamos los archivos que se utilizan para el aprendizaje. Para otro tipo de problemas, es necesario hacer un proceso conocido como *Data Wrangling*, que normalmente se realiza con la ayuda de *Pandas*. "
      ]
    },
    {
      "metadata": {
        "id": "C9Mh7tPhusUL",
        "colab_type": "code",
        "outputId": "6376a0eb-3e4c-4006-954e-bfeaba356dcb",
        "colab": {
          "base_uri": "https://localhost:8080/",
          "height": 559
        }
      },
      "cell_type": "code",
      "source": [
        "from tensorflow.examples.tutorials.mnist import input_data\n",
        "mnist = input_data.read_data_sets(\"/tmp/data/\", one_hot=True)"
      ],
      "execution_count": 2,
      "outputs": [
        {
          "output_type": "stream",
          "text": [
            "WARNING:tensorflow:From <ipython-input-2-c3d55fec490c>:2: read_data_sets (from tensorflow.contrib.learn.python.learn.datasets.mnist) is deprecated and will be removed in a future version.\n",
            "Instructions for updating:\n",
            "Please use alternatives such as official/mnist/dataset.py from tensorflow/models.\n",
            "WARNING:tensorflow:From /usr/local/lib/python3.6/dist-packages/tensorflow/contrib/learn/python/learn/datasets/mnist.py:260: maybe_download (from tensorflow.contrib.learn.python.learn.datasets.base) is deprecated and will be removed in a future version.\n",
            "Instructions for updating:\n",
            "Please write your own downloading logic.\n",
            "WARNING:tensorflow:From /usr/local/lib/python3.6/dist-packages/tensorflow/contrib/learn/python/learn/datasets/base.py:252: _internal_retry.<locals>.wrap.<locals>.wrapped_fn (from tensorflow.contrib.learn.python.learn.datasets.base) is deprecated and will be removed in a future version.\n",
            "Instructions for updating:\n",
            "Please use urllib or similar directly.\n",
            "Successfully downloaded train-images-idx3-ubyte.gz 9912422 bytes.\n",
            "WARNING:tensorflow:From /usr/local/lib/python3.6/dist-packages/tensorflow/contrib/learn/python/learn/datasets/mnist.py:262: extract_images (from tensorflow.contrib.learn.python.learn.datasets.mnist) is deprecated and will be removed in a future version.\n",
            "Instructions for updating:\n",
            "Please use tf.data to implement this functionality.\n",
            "Extracting /tmp/data/train-images-idx3-ubyte.gz\n",
            "Successfully downloaded train-labels-idx1-ubyte.gz 28881 bytes.\n",
            "WARNING:tensorflow:From /usr/local/lib/python3.6/dist-packages/tensorflow/contrib/learn/python/learn/datasets/mnist.py:267: extract_labels (from tensorflow.contrib.learn.python.learn.datasets.mnist) is deprecated and will be removed in a future version.\n",
            "Instructions for updating:\n",
            "Please use tf.data to implement this functionality.\n",
            "Extracting /tmp/data/train-labels-idx1-ubyte.gz\n",
            "WARNING:tensorflow:From /usr/local/lib/python3.6/dist-packages/tensorflow/contrib/learn/python/learn/datasets/mnist.py:110: dense_to_one_hot (from tensorflow.contrib.learn.python.learn.datasets.mnist) is deprecated and will be removed in a future version.\n",
            "Instructions for updating:\n",
            "Please use tf.one_hot on tensors.\n",
            "Successfully downloaded t10k-images-idx3-ubyte.gz 1648877 bytes.\n",
            "Extracting /tmp/data/t10k-images-idx3-ubyte.gz\n",
            "Successfully downloaded t10k-labels-idx1-ubyte.gz 4542 bytes.\n",
            "Extracting /tmp/data/t10k-labels-idx1-ubyte.gz\n",
            "WARNING:tensorflow:From /usr/local/lib/python3.6/dist-packages/tensorflow/contrib/learn/python/learn/datasets/mnist.py:290: DataSet.__init__ (from tensorflow.contrib.learn.python.learn.datasets.mnist) is deprecated and will be removed in a future version.\n",
            "Instructions for updating:\n",
            "Please use alternatives such as official/mnist/dataset.py from tensorflow/models.\n"
          ],
          "name": "stdout"
        }
      ]
    },
    {
      "metadata": {
        "id": "RWGPZJ3WusUo",
        "colab_type": "text"
      },
      "cell_type": "markdown",
      "source": [
        "Para que un aprendizaje tenga sentido es necesario tener bien separado un conjunto de datos de aprendizaje y otro de prueba (en caso de grandes conjuntos de datos es la opción). Como vemos tanto las imágenes como las etiquetas están separados en archivos de datos y de aprendizaje.\n",
        "\n",
        "El objeto `mnist` es un objeto tensorflow que contiene 3 objetos tipo tensorflow: *test*, *train* y *validation*, los cuales a su vez contienen *ndarrays* de *numpy*. La estructura es la misma para cada conjunto de datos. Veamos su estructura:\n"
      ]
    },
    {
      "metadata": {
        "id": "TbqOh2ZQusUt",
        "colab_type": "code",
        "outputId": "7fb25600-3ecf-4c1c-cc9c-6fbac3ba371f",
        "colab": {
          "base_uri": "https://localhost:8080/",
          "height": 107
        }
      },
      "cell_type": "code",
      "source": [
        "print(\"Tipo de images: {}\".format(type(mnist.train.images)))\n",
        "print(\"Tipo de epochs_completed: {}\".format(type(mnist.train.epochs_completed)))\n",
        "print(\"Tipo de labels: {}\".format(type(mnist.train.labels)))\n",
        "print(\"Tipo de next_batch: {}\".format(type(mnist.train.next_batch)))\n",
        "print(\"Tipo de num_examples: {}\".format(type(mnist.train.num_examples)))"
      ],
      "execution_count": 3,
      "outputs": [
        {
          "output_type": "stream",
          "text": [
            "Tipo de images: <class 'numpy.ndarray'>\n",
            "Tipo de epochs_completed: <class 'int'>\n",
            "Tipo de labels: <class 'numpy.ndarray'>\n",
            "Tipo de next_batch: <class 'method'>\n",
            "Tipo de num_examples: <class 'int'>\n"
          ],
          "name": "stdout"
        }
      ]
    },
    {
      "metadata": {
        "id": "aCbG2RTDusVx",
        "colab_type": "text"
      },
      "cell_type": "markdown",
      "source": [
        "Como generar el conjunto de datos para ser utilizado dentro de TensorFlow es objeto de otra libreta. Por el momento concentremonos en como hacer una red neuronal rápido y sin dolor.\n",
        "\n",
        "Sin embargo, vamos a ver unos cuantos datos que nos pueden ser de útilidad para la construcción de la red neuronal."
      ]
    },
    {
      "metadata": {
        "id": "K0-KPhWqusV4",
        "colab_type": "code",
        "outputId": "1e3977c2-9e96-4a9b-c1fd-6313ccb5cb9e",
        "colab": {
          "base_uri": "https://localhost:8080/",
          "height": 125
        }
      },
      "cell_type": "code",
      "source": [
        "print(\"Forma del ndarray con las imágenes: {}\".format(mnist.train.images.shape))\n",
        "print(\"Forma del ndarray con las etiquetas: {}\".format(mnist.train.labels.shape))\n",
        "print(\"-\" * 79)\n",
        "print(\"Número de imagenes de entrenamiento: {}\".format(mnist.train.images.shape[0]))\n",
        "print(\"Tamaño de las imagenes: {}\".format(mnist.train.images.shape[1]))\n",
        "print(\"Clases diferentes: {}\".format(mnist.train.labels.shape[1]))\n"
      ],
      "execution_count": 4,
      "outputs": [
        {
          "output_type": "stream",
          "text": [
            "Forma del ndarray con las imágenes: (55000, 784)\n",
            "Forma del ndarray con las etiquetas: (55000, 10)\n",
            "-------------------------------------------------------------------------------\n",
            "Número de imagenes de entrenamiento: 55000\n",
            "Tamaño de las imagenes: 784\n",
            "Clases diferentes: 10\n"
          ],
          "name": "stdout"
        }
      ]
    },
    {
      "metadata": {
        "id": "PUF0VLtgusWG",
        "colab_type": "text"
      },
      "cell_type": "markdown",
      "source": [
        "## 2. Construcción de la red neuronal"
      ]
    },
    {
      "metadata": {
        "id": "jnPXv44_usWJ",
        "colab_type": "text"
      },
      "cell_type": "markdown",
      "source": [
        "Para hacer una red neuronal lo más genérica posible y que podamos reutilizar en otros proyectos, vamos a establecer los parámetros base independientemente de la inicialización de la red, independientemente de la forma en que construimos la red. \n",
        "\n",
        "Comencemos por establecer una función genérica que nos forme una red neuronal con dos capas convolucionales y una capa oculta densa posterior. No agrego más comentarios porque, con la experiencia de las libretas anteriores, la construcción de la red neuronal se explica sola."
      ]
    },
    {
      "metadata": {
        "id": "oIp7YlB5usWP",
        "colab_type": "code",
        "colab": {}
      },
      "cell_type": "code",
      "source": [
        "def cnn_mnist(x, pesos, sesgos, dropout):\n",
        "    \"\"\"\n",
        "    Genera una red neuronal de dos capas para usar en TensorFlow\n",
        "    \n",
        "    Parámetros\n",
        "    ----------\n",
        "    pesos: un diccionario con cuatro etiquetas: 'c1', 'c2', w1' y 'wo'\n",
        "           en donde cada una es una tf.Variable conteniendo una \n",
        "           matriz con los pesos tanto de los filtros convolucionales 'c1' y'c2'\n",
        "           como de las capas densas 'w1' y 'wo'\n",
        "                  \n",
        "    sesgos: un diccionario con cuatro etiquetas: 'b1', 'b2, 'b3' y 'bo'\n",
        "            en donde cada una es una tf.Variable conteniendo un\n",
        "            vector de dimensión [numero_de_neuronas_capa]\n",
        "            \n",
        "    dropout: Un flotante 0 <= dropout <= 1 con el porcentaje de dropout \n",
        "             en la capa densa oculta\n",
        "                   \n",
        "    Devuelve\n",
        "    --------\n",
        "    Un ops de tensorflow que calcula la salida de una red neuronal\n",
        "    con dos capas convolucionales, una capa oculta, y activaciones RELU.\n",
        "    \n",
        "    \"\"\"\n",
        "    # Ajusta el vector de entrada de (-1, 784) que son los ejemplos que entran\n",
        "    # a la red para reconocimiento y/o aprendizaje, a un tensor de dimensión\n",
        "    # [-1, 28, 28, 1] (el último 1 implica que es una imagen BW, o una sola capa)\n",
        "    x = tf.reshape(x, shape=[-1, 28, 28, 1])\n",
        "       \n",
        "    # Primera capa convolucional con activación ReLU y max_pool de 2X2\n",
        "    capa_1 = tf.nn.conv2d(x, pesos['c1'], strides=[1, 1, 1, 1], padding='SAME')\n",
        "    capa_1 = tf.nn.bias_add(capa_1, sesgos['b1'])\n",
        "    capa_1 = tf.nn.relu(capa_1)\n",
        "    capa_1m = tf.nn.max_pool(capa_1, ksize=[1, 2, 2, 1], strides=[1, 2, 2, 1], padding='SAME')\n",
        "    \n",
        "    # Segunda capa convolucional con activación ReLU\n",
        "    capa_2 = tf.nn.conv2d(capa_1m, pesos['c2'], strides=[1, 1, 1, 1], padding='SAME')\n",
        "    capa_2 = tf.nn.bias_add(capa_2, sesgos['b2'])\n",
        "    capa_2 = tf.nn.relu(capa_2)\n",
        "    capa_2m = tf.nn.max_pool(capa_2, ksize=[1, 2, 2, 1], strides=[1, 2, 2, 1], padding='SAME')\n",
        "\n",
        "    # Desenrollamos las imágenes para poder aplicar capas densas\n",
        "    capa_2desen = tf.reshape(capa_2m, [-1, pesos['w1'].get_shape().as_list()[0]])\n",
        "    \n",
        "    # Capa oculta densa con activación ReLU\n",
        "    capa_3 = tf.matmul(capa_2desen, pesos['w1'])\n",
        "    capa_3 = tf.add(capa_3, sesgos['b3'])\n",
        "    capa_3 = tf.nn.relu(capa_3)\n",
        "    \n",
        "    # Se le agrega Dropout por la generalización\n",
        "    capa_3 = tf.nn.dropout(capa_3, dropout)\n",
        "\n",
        "    # Capa de salida con activación lineal\n",
        "    # En Tensorflow la salida es siempre lineal, y luego se especifica\n",
        "    # la función de salida a la hora de calcularla como vamos a ver \n",
        "    # más adelante\n",
        "    capa_salida = tf.matmul(capa_3, pesos['wo']) \n",
        "    capa_salida = tf.add(capa_salida, sesgos['bo'])\n",
        "    return capa_salida"
      ],
      "execution_count": 0,
      "outputs": []
    },
    {
      "metadata": {
        "id": "Bq2fVkJ_usWg",
        "colab_type": "text"
      },
      "cell_type": "markdown",
      "source": [
        "Y ahora necesitamos poder generar los datos de entrada a la red neuronal de\n",
        "alguna manera posible. Afortunadamente sabemos exactamente que necesitaos, así\n",
        "que vamos a hacer una función que nos genere las variables de peso y sesgo.\n",
        "\n",
        "Por el momento, y muy a la brava, solo vamos a generarlas con números aletorios con una \n",
        "distribución $\\mathcal{N}(0, 1)$."
      ]
    },
    {
      "metadata": {
        "id": "1hGNsgXjusWi",
        "colab_type": "code",
        "colab": {}
      },
      "cell_type": "code",
      "source": [
        "def inicializa_pesos(filtro1, filtro2, n1, n2, n3):\n",
        "    \"\"\"\n",
        "    Genera un diccionario con pesos  \n",
        "    para ser utilizado en la función red_neuronal_dos_capas_ocultas\n",
        "    \n",
        "    Parámetros\n",
        "    ----------\n",
        "    filtro1: (x, y) tupla con el tamaño del primer filtro convolucional\n",
        "\n",
        "    filtro2: (x, y) tupla con el tamaño del segundo filtro convolucional\n",
        "\n",
        "    n1: Número de imágenes generadas con el primer filtro\n",
        "    \n",
        "    n2: Número de imagenes generadas con el segundo filtro\n",
        "    \n",
        "    n3: Número de neuronas en la capa oculta\n",
        "\n",
        "    Asumimos que es una red para MNIST, por lo que la entrada son imágenes de 28 x 28 x 1 (BW)\n",
        "    y que tenemos 10 valores de salida diferentes\n",
        "    \n",
        "    Como hacemos maxpool de 2x2, las imagenes despues de la primer capa convolucional seran de \n",
        "    14 x 14, y las imágenes que salgan de la segunda capa convolucional serán de 7 x 7\n",
        "    \n",
        "    Devuelve\n",
        "    --------\n",
        "    Dos diccionarios, uno con los pesos por capa y otro con los sesgos por capa\n",
        "    \n",
        "    \"\"\"\n",
        "    pesos = {\n",
        "        'c1': tf.Variable(tf.random_normal([filtro1[0], filtro1[1], 1, n1])),\n",
        "        'c2': tf.Variable(tf.random_normal([filtro2[0], filtro2[1], n1, n2])),\n",
        "        'w1': tf.Variable(tf.random_normal([7 * 7 * n2, n3])),\n",
        "        'wo': tf.Variable(tf.random_normal([n3, 10]))\n",
        "    }\n",
        "    \n",
        "    sesgos = {\n",
        "        'b1': tf.Variable(tf.random_normal([n1])),\n",
        "        'b2': tf.Variable(tf.random_normal([n2])),\n",
        "        'b3': tf.Variable(tf.random_normal([n3])),\n",
        "        'bo': tf.Variable(tf.random_normal([10]))\n",
        "    }\n",
        "    \n",
        "    return pesos, sesgos"
      ],
      "execution_count": 0,
      "outputs": []
    },
    {
      "metadata": {
        "id": "a-FhloMjusWs",
        "colab_type": "text"
      },
      "cell_type": "markdown",
      "source": [
        "Ahora necesitamos establecer los parámetros de la topología de la red neuronal. \n",
        "Tomemos en cuenta que estos prámetros los podríamos haber establecido desde\n",
        "la primer celda, si el fin es estar variando los parámetros para escoger los que \n",
        "ofrezcan mejor desempeño."
      ]
    },
    {
      "metadata": {
        "id": "LSgMGurdusWw",
        "colab_type": "code",
        "colab": {}
      },
      "cell_type": "code",
      "source": [
        "num_entradas = 784  #  Lo sabemos por la inspección que hicimos a mnist\n",
        "num_salidas = 10    # Ídem\n",
        "\n",
        "# Aqui es donde podemos jugar\n",
        "filtro1 = (5, 5)\n",
        "filtro2 = (5, 5)\n",
        "n1 = 32\n",
        "n2 = 64\n",
        "n3 = 1024"
      ],
      "execution_count": 0,
      "outputs": []
    },
    {
      "metadata": {
        "id": "3gYWIiO_usW7",
        "colab_type": "text"
      },
      "cell_type": "markdown",
      "source": [
        "¡A construir la red! Para esto vamos a necesitar crear las entradas\n",
        "con un placeholder, y crear nuestra topología de red neuronal.\n",
        "\n",
        "Observa que la dimensión de x será [None, num_entradas], lo que significa que \n",
        "la cantidad de renglones es desconocida (o variable)."
      ]
    },
    {
      "metadata": {
        "id": "1DvawCVKusW_",
        "colab_type": "code",
        "colab": {}
      },
      "cell_type": "code",
      "source": [
        "# La entrada a la red neuronal\n",
        "x = tf.placeholder(\"float\", [None, num_entradas])\n",
        "\n",
        "# Los pesos y los sesgos\n",
        "w, b = inicializa_pesos(filtro1, filtro2, n1, n2, n3) \n",
        "\n",
        "# El valor de dropout que puede variar en el tiempo\n",
        "dp = tf.placeholder(tf.float32)\n",
        "\n",
        "# Crea la red neuronal\n",
        "estimado = cnn_mnist(x, w, b, dp)"
      ],
      "execution_count": 0,
      "outputs": []
    },
    {
      "metadata": {
        "id": "DpgYk8KzusXM",
        "colab_type": "text"
      },
      "cell_type": "markdown",
      "source": [
        "Parecería que ya está todo listo. Sin ambargo falta algo muy importante: No hemos explicado\n",
        "ni cual es el criterio de error (loss) que vamos a utilizar, ni cual va a ser el método de\n",
        "optimización (aprendizaje) que hemos decidido aplicar.\n",
        "\n",
        "Primero definamos el costo que queremos minimizar, y ese costo va a estar en función de lo\n",
        "estimado con lo real, por lo que necesitamos otra entrada de datos para los datos de salida.\n",
        "\n",
        "Sin ningun lugar a dudas, el costo que mejor describe este problema es el de *softmax*\n"
      ]
    },
    {
      "metadata": {
        "id": "dDR1EdjsusXP",
        "colab_type": "code",
        "colab": {}
      },
      "cell_type": "code",
      "source": [
        "#  Creamos la variable de datos de salida conocidos\n",
        "y = tf.placeholder(\"float\", [None, num_salidas])\n",
        "\n",
        "#  Definimos la función de costo\n",
        "costo = tf.reduce_mean(tf.nn.softmax_cross_entropy_with_logits_v2(logits=estimado, labels=y))"
      ],
      "execution_count": 0,
      "outputs": []
    },
    {
      "metadata": {
        "id": "H1uxiX0OusXZ",
        "colab_type": "text"
      },
      "cell_type": "markdown",
      "source": [
        "Y ahora definimos que función de aprendizaje vamos a utilizar. Existen muchas funciones\n",
        "de aprendizaje en tensorflow, las cuales se pueden consultar en `tf.train.`. Entre las\n",
        "existentes podemos ver algunas conocidas del curso como descenso de gradiente simple,\n",
        "momento, rprop, rmsprop entre otras. Casi todas las funciones de optimización (aprendizaje)\n",
        "acaban su nombre con `Optimize`.\n",
        "\n",
        "En este caso vamos a usar un método comocido como el *algoritmo de Adam* el cual \n",
        "se puede consultar [aqui](http://arxiv.org/pdf/1412.6980.pdf). El metodo utiliza dos calculos\n",
        "de momentos diferentes, y por lo visto genera resultados muy interesantes desde el punto \n",
        "de vista práctico.\n",
        "\n",
        "¿Cual es el mejor método? Pues esto es en función de tu problema y de la cantidad de datos que tengas.\n",
        "Lo mejor es practicar con varios métodos para entender sus ventajas y desventajas.\n",
        "\n",
        "En todo caso el método de optimización requiere que se le inicialice con una tasa de aprendizaje."
      ]
    },
    {
      "metadata": {
        "id": "hqk4jFzNusXd",
        "colab_type": "code",
        "colab": {}
      },
      "cell_type": "code",
      "source": [
        "alfa = 0.001\n",
        "optimizador = tf.train.AdamOptimizer(learning_rate=alfa)\n",
        "paso_entrenamiento = optimizador.minimize(costo)"
      ],
      "execution_count": 0,
      "outputs": []
    },
    {
      "metadata": {
        "id": "R8qi_Uu8usXn",
        "colab_type": "text"
      },
      "cell_type": "markdown",
      "source": [
        "## 3. Ejecutar la sesión usando mini-batches\n",
        "\n",
        "Ahora, ya que la red neuronal está lista vamos a ejecutar la red utilizando el algoritmo de\n",
        "Adam pero en forma de mini-batches. Con el fin de tener control sobre el problema, vamos a establecer un número máximo de epoch (ciclos de aprendizaje), el tamaño de los mini-batches, y cada cuandos epoch \n",
        "quisieramos ver como está evolucionando la red neuronal.\n",
        "\n",
        "Como entrenar una red neuronal no tiene sentido, si no es porque la queremos usar para reconocer,\n",
        "no tendría sentido entrenarla y luego perderla y tener que reentrenar en cada ocasión. Recuerda que cuando\n",
        "se cierra la sesión se borra todo lo que se tenía en memoria. \n",
        "\n",
        "Para esto vamos a usar una ops especial llamada `Saver`, que permite guardar en un archivo la red neuronal y \n",
        "después utilizarla en otra sesión (en otro script, computadora, ....).\n"
      ]
    },
    {
      "metadata": {
        "id": "bSL_zMidusXr",
        "colab_type": "code",
        "colab": {
          "base_uri": "https://localhost:8080/",
          "height": 35
        },
        "outputId": "3b33af30-b8c1-4740-c91d-0a996bc22519"
      },
      "cell_type": "code",
      "source": [
        "!ls\n",
        "archivo_modelo = \"simple/cnn_simple.ckpt\"\n",
        "saver = tf.train.Saver()"
      ],
      "execution_count": 11,
      "outputs": [
        {
          "output_type": "stream",
          "text": [
            "sample_data\n"
          ],
          "name": "stdout"
        }
      ]
    },
    {
      "metadata": {
        "id": "zaygceT1usX5",
        "colab_type": "text"
      },
      "cell_type": "markdown",
      "source": [
        "Como todo se ejecuta dentro de una sesión, no es posible hacerlo por partes (si usamos el \n",
        "`with` que debería ser la única forma en la que iniciaramos una sesión). Por lo tanto procuraré dejar comentado el código."
      ]
    },
    {
      "metadata": {
        "id": "JVK8B2squsX8",
        "colab_type": "code",
        "outputId": "8f1e5128-2d90-429d-b99f-a99b68351cea",
        "colab": {
          "base_uri": "https://localhost:8080/",
          "height": 125
        }
      },
      "cell_type": "code",
      "source": [
        "numero_epochs = 5\n",
        "tamano_minibatch = 100\n",
        "display_step = 1\n",
        "dropout = 0.75\n",
        "\n",
        "# Muy importante la primera vez que se ejecuta inicializar todas las variables\n",
        "init = tf.global_variables_initializer()\n",
        "\n",
        "# La manera correcta de iniciar una sesión y realizar calculos\n",
        "with tf.Session() as sess:\n",
        "    sess.run(init)\n",
        "\n",
        "    # Ciclos de entrenamiento\n",
        "    for epoch in range(numero_epochs):\n",
        "\n",
        "        #  Inicializa el costo promedio de todos los minibatches en 0\n",
        "        avg_cost = 0.\n",
        "        \n",
        "        #  Calcula el número de minibatches que se pueden usar \n",
        "        total_batch = int(mnist.train.num_examples/tamano_minibatch)\n",
        "\n",
        "        #  Por cada minibatch\n",
        "        for i in range(total_batch):\n",
        "            \n",
        "            #  Utiliza un generador incluido en mnist que obtiene \n",
        "            #  tamano_minibatch ejemplos selecionados aleatoriamente del total\n",
        "            batch_x, batch_y = mnist.train.next_batch(tamano_minibatch)\n",
        "            \n",
        "            #  Ejecuta la ops del paso_entrenamiento para aprender \n",
        "            #  y la del costo, con el fin de mostrar el aprendizaje\n",
        "            _, c = sess.run(\n",
        "                [paso_entrenamiento, costo], \n",
        "                feed_dict={x: batch_x, y: batch_y, dp: dropout}\n",
        "            )\n",
        "            \n",
        "            #  Calcula el costo del minibatch y lo agrega al costo total\n",
        "            avg_cost += c / total_batch\n",
        "        \n",
        "        # Muestra los resultados\n",
        "        if epoch % display_step == 0:\n",
        "            print ((\"Epoch: \" + str(epoch)).ljust(20)\n",
        "                   + (\"Costo: \" + str(avg_cost)))\n",
        "    \n",
        "        #  Guarda la sesión en el archivo rnn2.cptk\n",
        "        #saver.save(sess, archivo_modelo, global_step=i)\n",
        "    #Guarda la sesión en el archivo rnn2.cptk\n",
        "    saver.save(sess, archivo_modelo)\n",
        "    print(\"Se acabaron los epochs, saliendo de la sesión de tensorflow.\")"
      ],
      "execution_count": 12,
      "outputs": [
        {
          "output_type": "stream",
          "text": [
            "Epoch: 0            Costo: 5733.652968902587\n",
            "Epoch: 1            Costo: 722.7327221402255\n",
            "Epoch: 2            Costo: 371.6794314679232\n",
            "Epoch: 3            Costo: 223.32004240604957\n",
            "Epoch: 4            Costo: 156.46544654068626\n",
            "Se acabaron los epochs, saliendo de la sesión de tensorflow.\n"
          ],
          "name": "stdout"
        }
      ]
    },
    {
      "metadata": {
        "collapsed": true,
        "id": "WPPAFXoNusYO",
        "colab_type": "text"
      },
      "cell_type": "markdown",
      "source": [
        "Ahora vamos a revisar que tan bien realizó el aprendizaje cuando se aplica la red adatos que\n",
        "no se usaron para entrenamiento. Para esto vamos a utilizar dos ops extas: una \n",
        "para definir la operaración de datos bien estimados o mal estimados, y otra para\n",
        "calcular el promedio de datos bien estimados. Para calcular los datos bien estimados vamos a utilizar `tf.cast` que permite ajustar los tipos\n",
        "al tipo tensor. "
      ]
    },
    {
      "metadata": {
        "id": "Yp9nA7iSusYS",
        "colab_type": "code",
        "colab": {}
      },
      "cell_type": "code",
      "source": [
        "prediction_correcta = tf.equal(\n",
        "    tf.argmax(estimado, 1), \n",
        "    tf.argmax(y, 1)\n",
        ")\n",
        "\n",
        "precision = tf.reduce_mean(tf.cast(prediction_correcta, \"float\"))"
      ],
      "execution_count": 0,
      "outputs": []
    },
    {
      "metadata": {
        "id": "zKGJ_gR2usYj",
        "colab_type": "text"
      },
      "cell_type": "markdown",
      "source": [
        "Ahora si, vamos a abrir una nueva sesión, vamos a restaurar los valores de la sesión anterior,\n",
        "y vamos a ejecutar el grafo con el fin de evaluar la ops precision, pero ahora con el\n",
        "diccionario de alimentación con los datos de prueba."
      ]
    },
    {
      "metadata": {
        "id": "MK-N0anJusYo",
        "colab_type": "code",
        "outputId": "888e40aa-e7ed-4374-d539-f33d9d38159c",
        "colab": {
          "base_uri": "https://localhost:8080/",
          "height": 53
        }
      },
      "cell_type": "code",
      "source": [
        "with tf.Session() as sess:\n",
        "    sess.run(init)\n",
        "    saver.restore(sess, archivo_modelo)\n",
        "    porcentaje_acierto = sess.run(\n",
        "        precision, \n",
        "        feed_dict={\n",
        "            x: mnist.test.images,\n",
        "            y: mnist.test.labels,\n",
        "            dp: dropout\n",
        "        }\n",
        "    )\n",
        "    print(\"Precisión: {}\".format(porcentaje_acierto))\n"
      ],
      "execution_count": 14,
      "outputs": [
        {
          "output_type": "stream",
          "text": [
            "INFO:tensorflow:Restoring parameters from simple/cnn_simple.ckpt\n",
            "Precisión: 0.9617999792098999\n"
          ],
          "name": "stdout"
        }
      ]
    },
    {
      "metadata": {
        "id": "ej9wVmruusY3",
        "colab_type": "text"
      },
      "cell_type": "markdown",
      "source": [
        "## 4. Contesta las siguientes preguntas\n",
        "\n",
        "1. ¿Cuanto tiempo tarde en realizar un epoch?\n",
        "\n",
        "2. Realiza solamente 5 epoch cada vez y prueba con el conjunto de test para comprobar como \n",
        "   mejora el reconocimiento.\n",
        "\n",
        "4. ¿Que pasa si cambias los tamaños de los filtros o el número de imágenes generadas?\n",
        "\n",
        "5. ¿Que pasa si cambias el tamaño de los minibatches?\n",
        "\n",
        "**Para contestar las preguntas, agrega cuantas celdas con comentarios y con códgo sean necesarias.** Aprovecha que las libretas de *Jupyter* te permite hacerte una especie de tutorial personalizado."
      ]
    },
    {
      "metadata": {
        "id": "W-z78inMLr3n",
        "colab_type": "text"
      },
      "cell_type": "markdown",
      "source": [
        "##1. ¿Cuanto tiempo tarde en realizar un epoch?"
      ]
    },
    {
      "metadata": {
        "id": "L62N-pPCMLT1",
        "colab_type": "code",
        "colab": {
          "base_uri": "https://localhost:8080/",
          "height": 143
        },
        "outputId": "912ce8d2-bd5a-422d-b396-5a22ff3db61e"
      },
      "cell_type": "code",
      "source": [
        "import time\n",
        "\n",
        "numero_epochs = 5\n",
        "tamano_minibatch = 100\n",
        "display_step = 1\n",
        "dropout = 0.75\n",
        "\n",
        "# Muy importante la primera vez que se ejecuta inicializar todas las variables\n",
        "init = tf.global_variables_initializer()\n",
        "\n",
        "# La manera correcta de iniciar una sesión y realizar calculos\n",
        "with tf.Session() as sess:\n",
        "    sess.run(init)\n",
        "    tiempo_inicial=time.time()\n",
        "    # Ciclos de entrenamiento\n",
        "    for epoch in range(numero_epochs):\n",
        "\n",
        "        #  Inicializa el costo promedio de todos los minibatches en 0\n",
        "        avg_cost = 0.\n",
        "        \n",
        "        #  Calcula el número de minibatches que se pueden usar \n",
        "        total_batch = int(mnist.train.num_examples/tamano_minibatch)\n",
        "\n",
        "        #  Por cada minibatch\n",
        "        for i in range(total_batch):\n",
        "            \n",
        "            #  Utiliza un generador incluido en mnist que obtiene \n",
        "            #  tamano_minibatch ejemplos selecionados aleatoriamente del total\n",
        "            batch_x, batch_y = mnist.train.next_batch(tamano_minibatch)\n",
        "            \n",
        "            #  Ejecuta la ops del paso_entrenamiento para aprender \n",
        "            #  y la del costo, con el fin de mostrar el aprendizaje\n",
        "            _, c = sess.run(\n",
        "                [paso_entrenamiento, costo], \n",
        "                feed_dict={x: batch_x, y: batch_y, dp: dropout}\n",
        "            )\n",
        "            \n",
        "            #  Calcula el costo del minibatch y lo agrega al costo total\n",
        "            avg_cost += c / total_batch\n",
        "        \n",
        "        # Muestra los resultados\n",
        "        if epoch % display_step == 0:\n",
        "            print ((\"Epoch: \" + str(epoch)).ljust(20)\n",
        "                   + (\"Costo: \" + str(avg_cost)))\n",
        "    \n",
        "        #  Guarda la sesión en el archivo rnn2.cptk\n",
        "        #saver.save(sess, archivo_modelo, global_step=i)\n",
        "    tiempo_final = time.time()\n",
        "    print(\"Tiempo por epoch: {} s\".format((tiempo_final-tiempo_inicial)/numero_epochs))\n",
        "    #Guarda la sesión en el archivo rnn2.cptk\n",
        "    #saver.save(sess, archivo_modelo)\n",
        "    print(\"Se acabaron los epochs, saliendo de la sesión de tensorflow.\")"
      ],
      "execution_count": 15,
      "outputs": [
        {
          "output_type": "stream",
          "text": [
            "Epoch: 0            Costo: 4102.982741088859\n",
            "Epoch: 1            Costo: 593.0987384338808\n",
            "Epoch: 2            Costo: 309.1606893704154\n",
            "Epoch: 3            Costo: 189.05839674917135\n",
            "Epoch: 4            Costo: 139.58575731862678\n",
            "Tiempo por epoch: 6.1397223472595215 s\n",
            "Se acabaron los epochs, saliendo de la sesión de tensorflow.\n"
          ],
          "name": "stdout"
        }
      ]
    },
    {
      "metadata": {
        "id": "5bW6bHf0NaOW",
        "colab_type": "text"
      },
      "cell_type": "markdown",
      "source": [
        "Un Epoch en *Google Colab* tardo 6.13 segundos"
      ]
    },
    {
      "metadata": {
        "id": "5uJhnvI0NmRf",
        "colab_type": "text"
      },
      "cell_type": "markdown",
      "source": [
        "##2. Realiza solamente 5 epoch cada vez y prueba con el conjunto de test para comprobar como mejora el reconocimiento."
      ]
    },
    {
      "metadata": {
        "id": "Udf5oxZJNwHO",
        "colab_type": "code",
        "colab": {}
      },
      "cell_type": "code",
      "source": [
        "def ejecutar_cnn(numero_epochs, minibatch=100, display_step=1, dropout=0.75):\n",
        "\n",
        "    # Muy importante la primera vez que se ejecuta inicializar todas las variables\n",
        "    init = tf.global_variables_initializer()\n",
        "\n",
        "    # La manera correcta de iniciar una sesión y realizar calculos\n",
        "    with tf.Session() as sess:\n",
        "\n",
        "        sess.run(init)\n",
        "\n",
        "        # Ciclos de entrenamiento\n",
        "        for epoch in range(numero_epochs):\n",
        "\n",
        "            #  Inicializa el costo promedio de todos los minibatches en 0\n",
        "            avg_cost = 0.\n",
        "\n",
        "            #  Calcula el número de minibatches que se pueden usar \n",
        "            total_batch = int(mnist.train.num_examples/tamano_minibatch)\n",
        "\n",
        "            #  Por cada minibatch\n",
        "            for i in range(total_batch):\n",
        "\n",
        "                #  Utiliza un generador incluido en mnist que obtiene \n",
        "                #  tamano_minibatch ejemplos selecionados aleatoriamente del total\n",
        "                batch_x, batch_y = mnist.train.next_batch(tamano_minibatch)\n",
        "\n",
        "                #  Ejecuta la ops del paso_entrenamiento para aprender \n",
        "                #  y la del costo, con el fin de mostrar el aprendizaje\n",
        "                _, c = sess.run(\n",
        "                    [paso_entrenamiento, costo], \n",
        "                    feed_dict={x: batch_x, y: batch_y, dp: dropout}\n",
        "                )\n",
        "\n",
        "                #  Calcula el costo del minibatch y lo agrega al costo total\n",
        "                avg_cost += c / total_batch\n",
        "\n",
        "            # Muestra los resultados\n",
        "            if epoch % display_step == 0:\n",
        "                print ((\"Epoch: \" + str(epoch)).ljust(20)\n",
        "                       + (\"Costo: \" + str(avg_cost)))\n",
        "\n",
        "        #  Guarda la sesión en el archivo rnn2.cptk\n",
        "        saver.save(sess, archivo_modelo)\n",
        "\n",
        "        print(\"Se acabaron los epochs, saliendo de la sesión de tensorflow.\\n\")\n",
        "\n",
        "    prediction_correcta = tf.equal(\n",
        "        tf.argmax(estimado, 1), \n",
        "        tf.argmax(y, 1)\n",
        "    )\n",
        "\n",
        "    precision = tf.reduce_mean(tf.cast(prediction_correcta, \"float\"))\n",
        "\n",
        "    with tf.Session() as sess:\n",
        "        sess.run(init)\n",
        "        saver.restore(sess, archivo_modelo)\n",
        "        porcentaje_acierto = sess.run(\n",
        "            precision, \n",
        "            feed_dict={\n",
        "                x: mnist.test.images,\n",
        "                y: mnist.test.labels,\n",
        "                dp: dropout\n",
        "            }\n",
        "        )\n",
        "    print(\"Precisión: {}\\n\".format(porcentaje_acierto))"
      ],
      "execution_count": 0,
      "outputs": []
    },
    {
      "metadata": {
        "id": "LIX9xUbCP5Fb",
        "colab_type": "code",
        "colab": {
          "base_uri": "https://localhost:8080/",
          "height": 1277
        },
        "outputId": "53dd930e-3987-4183-93c6-ff64f380af1e"
      },
      "cell_type": "code",
      "source": [
        "ejecutar_cnn(5)\n",
        "ejecutar_cnn(10)\n",
        "ejecutar_cnn(15)\n",
        "ejecutar_cnn(20)"
      ],
      "execution_count": 20,
      "outputs": [
        {
          "output_type": "stream",
          "text": [
            "Epoch: 0            Costo: 5089.298932328653\n",
            "Epoch: 1            Costo: 619.6070738983157\n",
            "Epoch: 2            Costo: 333.9867384780541\n",
            "Epoch: 3            Costo: 201.29757326071908\n",
            "Epoch: 4            Costo: 138.37772257929498\n",
            "Se acabaron los epochs, saliendo de la sesión de tensorflow.\n",
            "\n",
            "INFO:tensorflow:Restoring parameters from simple/cnn_simple.ckpt\n",
            "Precisión: 0.9629999995231628\n",
            "\n",
            "Epoch: 0            Costo: 5806.912613858313\n",
            "Epoch: 1            Costo: 755.919311441509\n",
            "Epoch: 2            Costo: 410.5052974453844\n",
            "Epoch: 3            Costo: 248.40129889444887\n",
            "Epoch: 4            Costo: 167.31866375868972\n",
            "Epoch: 5            Costo: 123.20226961309255\n",
            "Epoch: 6            Costo: 98.87169642008782\n",
            "Epoch: 7            Costo: 75.07772663139482\n",
            "Epoch: 8            Costo: 60.68232465913568\n",
            "Epoch: 9            Costo: 48.83546413308921\n",
            "Se acabaron los epochs, saliendo de la sesión de tensorflow.\n",
            "\n",
            "INFO:tensorflow:Restoring parameters from simple/cnn_simple.ckpt\n",
            "Precisión: 0.9678000211715698\n",
            "\n",
            "Epoch: 0            Costo: 5728.666072831587\n",
            "Epoch: 1            Costo: 732.0753082899616\n",
            "Epoch: 2            Costo: 385.6567942116477\n",
            "Epoch: 3            Costo: 243.28956714373695\n",
            "Epoch: 4            Costo: 159.26992051652599\n",
            "Epoch: 5            Costo: 115.5359874912047\n",
            "Epoch: 6            Costo: 90.79750779542061\n",
            "Epoch: 7            Costo: 67.64026191521775\n",
            "Epoch: 8            Costo: 55.44465845293629\n",
            "Epoch: 9            Costo: 43.36519387648635\n",
            "Epoch: 10           Costo: 36.34052168207978\n",
            "Epoch: 11           Costo: 30.34439994145682\n",
            "Epoch: 12           Costo: 22.654389726556968\n",
            "Epoch: 13           Costo: 22.51869280346955\n",
            "Epoch: 14           Costo: 21.803553082606346\n",
            "Se acabaron los epochs, saliendo de la sesión de tensorflow.\n",
            "\n",
            "INFO:tensorflow:Restoring parameters from simple/cnn_simple.ckpt\n",
            "Precisión: 0.9764999747276306\n",
            "\n",
            "Epoch: 0            Costo: 7830.183111267076\n",
            "Epoch: 1            Costo: 869.0780010223384\n",
            "Epoch: 2            Costo: 464.92553474196325\n",
            "Epoch: 3            Costo: 262.9060108616135\n",
            "Epoch: 4            Costo: 188.84345281113275\n",
            "Epoch: 5            Costo: 140.38674654700543\n",
            "Epoch: 6            Costo: 100.40451596216714\n",
            "Epoch: 7            Costo: 79.49692791423173\n",
            "Epoch: 8            Costo: 63.79727006296671\n",
            "Epoch: 9            Costo: 51.56231488028033\n",
            "Epoch: 10           Costo: 41.4393511966028\n",
            "Epoch: 11           Costo: 35.36944858972664\n",
            "Epoch: 12           Costo: 28.827064885388435\n",
            "Epoch: 13           Costo: 31.115241495858548\n",
            "Epoch: 14           Costo: 26.160982467163695\n",
            "Epoch: 15           Costo: 19.134306322535373\n",
            "Epoch: 16           Costo: 21.97721209237031\n",
            "Epoch: 17           Costo: 18.01708519376024\n",
            "Epoch: 18           Costo: 14.736731642403395\n",
            "Epoch: 19           Costo: 13.522400507858748\n",
            "Se acabaron los epochs, saliendo de la sesión de tensorflow.\n",
            "\n",
            "INFO:tensorflow:Restoring parameters from simple/cnn_simple.ckpt\n",
            "Precisión: 0.9797999858856201\n",
            "\n"
          ],
          "name": "stdout"
        }
      ]
    },
    {
      "metadata": {
        "id": "tzw40ejvRWow",
        "colab_type": "text"
      },
      "cell_type": "markdown",
      "source": [
        "##3. ¿Que pasa si cambias los tamaños de los filtros o el número de imágenes generadas?"
      ]
    },
    {
      "metadata": {
        "id": "f1exLv0ORY-w",
        "colab_type": "code",
        "colab": {
          "base_uri": "https://localhost:8080/",
          "height": 557
        },
        "outputId": "cce15971-877a-4101-93e2-127358b9bdf3"
      },
      "cell_type": "code",
      "source": [
        "# Aqui es donde podemos jugar\n",
        "filtro1 = (2, 2)\n",
        "filtro2 = (2, 2)\n",
        "\n",
        "# La entrada a la red neuronal\n",
        "x = tf.placeholder(\"float\", [None, num_entradas])\n",
        "\n",
        "# Los pesos y los sesgos\n",
        "w, b = inicializa_pesos(filtro1, filtro2, n1, n2, n3) \n",
        "\n",
        "# El valor de dropout que puede variar en el tiempo\n",
        "dp = tf.placeholder(tf.float32)\n",
        "\n",
        "# Crea la red neuronal\n",
        "estimado = cnn_mnist(x, w, b, dp)\n",
        "\n",
        "#  Creamos la variable de datos de salida conocidos\n",
        "y = tf.placeholder(\"float\", [None, num_salidas])\n",
        "\n",
        "#  Definimos la función de costo\n",
        "costo = tf.reduce_mean(tf.nn.softmax_cross_entropy_with_logits_v2(logits=estimado, labels=y))\n",
        "\n",
        "alfa = 0.001\n",
        "optimizador = tf.train.AdamOptimizer(learning_rate=alfa)\n",
        "paso_entrenamiento = optimizador.minimize(costo)\n",
        "\n",
        "archivo_modelo = \"simple/cnn_simple.ckpt\"\n",
        "saver = tf.train.Saver()\n",
        "\n",
        "ejecutar_cnn(10)\n",
        "\n",
        "# Aqui es donde podemos jugar\n",
        "filtro1 = (10, 10)\n",
        "filtro2 = (10, 10)\n",
        "\n",
        "# La entrada a la red neuronal\n",
        "x = tf.placeholder(\"float\", [None, num_entradas])\n",
        "\n",
        "# Los pesos y los sesgos\n",
        "w, b = inicializa_pesos(filtro1, filtro2, n1, n2, n3) \n",
        "\n",
        "# El valor de dropout que puede variar en el tiempo\n",
        "dp = tf.placeholder(tf.float32)\n",
        "\n",
        "# Crea la red neuronal\n",
        "estimado = cnn_mnist(x, w, b, dp)\n",
        "\n",
        "#  Creamos la variable de datos de salida conocidos\n",
        "y = tf.placeholder(\"float\", [None, num_salidas])\n",
        "\n",
        "#  Definimos la función de costo\n",
        "costo = tf.reduce_mean(tf.nn.softmax_cross_entropy_with_logits_v2(logits=estimado, labels=y))\n",
        "\n",
        "alfa = 0.001\n",
        "optimizador = tf.train.AdamOptimizer(learning_rate=alfa)\n",
        "paso_entrenamiento = optimizador.minimize(costo)\n",
        "\n",
        "archivo_modelo = \"simple/cnn_simple.ckpt\"\n",
        "saver = tf.train.Saver()\n",
        "\n",
        "ejecutar_cnn(10)"
      ],
      "execution_count": 22,
      "outputs": [
        {
          "output_type": "stream",
          "text": [
            "Epoch: 0            Costo: 1620.3353382457385\n",
            "Epoch: 1            Costo: 146.80966991597955\n",
            "Epoch: 2            Costo: 65.07809331893917\n",
            "Epoch: 3            Costo: 39.899278332320094\n",
            "Epoch: 4            Costo: 29.09531478345395\n",
            "Epoch: 5            Costo: 21.600664273608835\n",
            "Epoch: 6            Costo: 16.941597796245055\n",
            "Epoch: 7            Costo: 13.561072859872473\n",
            "Epoch: 8            Costo: 11.011744502891208\n",
            "Epoch: 9            Costo: 9.138878623165866\n",
            "Se acabaron los epochs, saliendo de la sesión de tensorflow.\n",
            "\n",
            "INFO:tensorflow:Restoring parameters from simple/cnn_simple.ckpt\n",
            "Precisión: 0.9297999739646912\n",
            "\n",
            "Epoch: 0            Costo: 16386.656576371628\n",
            "Epoch: 1            Costo: 2408.3034213950423\n",
            "Epoch: 2            Costo: 1272.6081205671494\n",
            "Epoch: 3            Costo: 831.4281012006245\n",
            "Epoch: 4            Costo: 539.3681219807536\n",
            "Epoch: 5            Costo: 389.8171619762078\n",
            "Epoch: 6            Costo: 295.18496803961006\n",
            "Epoch: 7            Costo: 225.0763375422627\n",
            "Epoch: 8            Costo: 165.76639733980997\n",
            "Epoch: 9            Costo: 145.5157394782305\n",
            "Se acabaron los epochs, saliendo de la sesión de tensorflow.\n",
            "\n",
            "INFO:tensorflow:Restoring parameters from simple/cnn_simple.ckpt\n",
            "Precisión: 0.968999981880188\n",
            "\n"
          ],
          "name": "stdout"
        }
      ]
    },
    {
      "metadata": {
        "id": "K-rBDNJPT-DB",
        "colab_type": "text"
      },
      "cell_type": "markdown",
      "source": [
        "*   Bajando el tamaño de los filtros disminuye bastante la precisión.\n",
        "*   Aumentando el tamaño de los filtros aumento poco la precisón.\n",
        "\n"
      ]
    },
    {
      "metadata": {
        "id": "HHPPZ2BPSiVf",
        "colab_type": "text"
      },
      "cell_type": "markdown",
      "source": [
        "##4. ¿Que pasa si cambias el tamaño de los minibatches?"
      ]
    },
    {
      "metadata": {
        "id": "kTe0vKqBWRQ3",
        "colab_type": "code",
        "colab": {
          "base_uri": "https://localhost:8080/",
          "height": 1097
        },
        "outputId": "48a2eaf2-d11f-42eb-ca4b-48cb21666dea"
      },
      "cell_type": "code",
      "source": [
        "ejecutar_cnn(10,32)\n",
        "ejecutar_cnn(10,64)\n",
        "ejecutar_cnn(10,100)\n",
        "ejecutar_cnn(10,200)"
      ],
      "execution_count": 23,
      "outputs": [
        {
          "output_type": "stream",
          "text": [
            "Epoch: 0            Costo: 17843.56878651012\n",
            "Epoch: 1            Costo: 2538.3375910880327\n",
            "Epoch: 2            Costo: 1332.7375781735493\n",
            "Epoch: 3            Costo: 838.3641643376786\n",
            "Epoch: 4            Costo: 596.8041534578807\n",
            "Epoch: 5            Costo: 417.276651184342\n",
            "Epoch: 6            Costo: 339.87025747212465\n",
            "Epoch: 7            Costo: 254.4897706642478\n",
            "Epoch: 8            Costo: 210.71879292813233\n",
            "Epoch: 9            Costo: 164.45730465448977\n",
            "Se acabaron los epochs, saliendo de la sesión de tensorflow.\n",
            "\n",
            "INFO:tensorflow:Restoring parameters from simple/cnn_simple.ckpt\n",
            "Precisión: 0.9628000259399414\n",
            "\n",
            "Epoch: 0            Costo: 16075.096336891862\n",
            "Epoch: 1            Costo: 2391.1978131935803\n",
            "Epoch: 2            Costo: 1218.014660652333\n",
            "Epoch: 3            Costo: 767.5609377919546\n",
            "Epoch: 4            Costo: 535.7367167765447\n",
            "Epoch: 5            Costo: 385.89434800906656\n",
            "Epoch: 6            Costo: 277.6418111009217\n",
            "Epoch: 7            Costo: 209.34528267177666\n",
            "Epoch: 8            Costo: 161.91037419798698\n",
            "Epoch: 9            Costo: 131.69146362261336\n",
            "Se acabaron los epochs, saliendo de la sesión de tensorflow.\n",
            "\n",
            "INFO:tensorflow:Restoring parameters from simple/cnn_simple.ckpt\n",
            "Precisión: 0.9670000076293945\n",
            "\n",
            "Epoch: 0            Costo: 15722.196068087498\n",
            "Epoch: 1            Costo: 2370.556502401178\n",
            "Epoch: 2            Costo: 1210.6476423393592\n",
            "Epoch: 3            Costo: 711.6258730472216\n",
            "Epoch: 4            Costo: 501.931085331007\n",
            "Epoch: 5            Costo: 358.1208926655202\n",
            "Epoch: 6            Costo: 279.7413459781626\n",
            "Epoch: 7            Costo: 213.20281075698395\n",
            "Epoch: 8            Costo: 170.24811316252632\n",
            "Epoch: 9            Costo: 133.74828240698034\n",
            "Se acabaron los epochs, saliendo de la sesión de tensorflow.\n",
            "\n",
            "INFO:tensorflow:Restoring parameters from simple/cnn_simple.ckpt\n",
            "Precisión: 0.9696999788284302\n",
            "\n",
            "Epoch: 0            Costo: 16228.83168346058\n",
            "Epoch: 1            Costo: 2243.793185452547\n",
            "Epoch: 2            Costo: 1162.3822179551564\n",
            "Epoch: 3            Costo: 754.1175353240963\n",
            "Epoch: 4            Costo: 513.3115244379909\n",
            "Epoch: 5            Costo: 344.0159728028556\n",
            "Epoch: 6            Costo: 264.597615321712\n",
            "Epoch: 7            Costo: 215.91390832348307\n",
            "Epoch: 8            Costo: 166.97941084038135\n",
            "Epoch: 9            Costo: 116.18864605881954\n",
            "Se acabaron los epochs, saliendo de la sesión de tensorflow.\n",
            "\n",
            "INFO:tensorflow:Restoring parameters from simple/cnn_simple.ckpt\n",
            "Precisión: 0.972100019454956\n",
            "\n"
          ],
          "name": "stdout"
        }
      ]
    },
    {
      "metadata": {
        "id": "HALpWPbxXl1A",
        "colab_type": "text"
      },
      "cell_type": "markdown",
      "source": [
        "Conforme iba aumentando el tamaño de los minibatches la precisión fue en aumento.\n",
        "\n"
      ]
    }
  ]
}